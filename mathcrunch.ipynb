{
 "cells": [
  {
   "cell_type": "code",
   "execution_count": 454,
   "metadata": {
    "collapsed": true
   },
   "outputs": [],
   "source": [
    "import csv\n",
    "import collections\n",
    "import math\n",
    "import pprint"
   ]
  },
  {
   "cell_type": "code",
   "execution_count": 455,
   "metadata": {
    "collapsed": false
   },
   "outputs": [],
   "source": [
    "# Open file and import a pretty printer to make dictionaries more readable\n",
    "\n",
    "with open ('tutor.csv', 'r') as f:\n",
    "    tutor_file = csv.reader(f)\n",
    "    tutor_file = list(tutor_file)\n",
    "\n",
    "pp = pprint.PrettyPrinter(indent=4)"
   ]
  },
  {
   "cell_type": "code",
   "execution_count": 456,
   "metadata": {
    "collapsed": true
   },
   "outputs": [],
   "source": [
    "# Determine total Answer Key Score for each session\n",
    "\n",
    "answer_key = [x for x in tutor_file if x[1] == \"Answer Key\"]\n",
    "answer_key_score = []\n",
    "for item in answer_key:\n",
    "    score_answer = 0\n",
    "    for i in range(3, 11):\n",
    "        if item[i] == \"Yes\":\n",
    "            if i == 6:\n",
    "                score_answer += 2\n",
    "            else:\n",
    "                score_answer += 1\n",
    "            \n",
    "    answer_key_score.append(score_answer)\n"
   ]
  },
  {
   "cell_type": "code",
   "execution_count": 457,
   "metadata": {
    "collapsed": false
   },
   "outputs": [],
   "source": [
    "# Aggregate all tutor evaluations for each session\n",
    "# so session 1 would have a list of senior tutor 1, \n",
    "# senior tutor 2 evaluations (yes no yes no no ..) and so on.\n",
    "\n",
    "session1 = [x for x in tutor_file if x[2] == \"Session 1\" and x[1] != \"Answer Key\"]\n",
    "session2 = [x for x in tutor_file if x[2] == \"Session 2\" and x[1] != \"Answer Key\"]\n",
    "session3 = [x for x in tutor_file if x[2] == \"Session 3\" and x[1] != \"Answer Key\"]\n",
    "session4 = [x for x in tutor_file if x[2] == \"Session 4\" and x[1] != \"Answer Key\"]\n",
    "session5 = [x for x in tutor_file if x[2] == \"Session 5\" and x[1] != \"Answer Key\"]\n",
    "session6 = [x for x in tutor_file if x[2] == \"Session 6\" and x[1] != \"Answer Key\"]\n",
    "session7 = [x for x in tutor_file if x[2] == \"Session 7\" and x[1] != \"Answer Key\"]\n",
    "session8 = [x for x in tutor_file if x[2] == \"Session 8\" and x[1] != \"Answer Key\"]\n",
    "session9 = [x for x in tutor_file if x[2] == \"Session 9\" and x[1] != \"Answer Key\"]\n",
    "session10 = [x for x in tutor_file if x[2] == \"Session 10\" and x[1] != \"Answer Key\"]\n",
    "\n",
    "session_list = [session1, session2, session3, session4, session5,\n",
    "               session6, session7, session8, session9, session10]\n"
   ]
  },
  {
   "cell_type": "code",
   "execution_count": 458,
   "metadata": {
    "collapsed": false
   },
   "outputs": [],
   "source": [
    "# Create Ordered Dictionary for each session\n",
    "session1_dict = collections.OrderedDict()\n",
    "session2_dict = collections.OrderedDict()\n",
    "session3_dict = collections.OrderedDict()\n",
    "session4_dict = collections.OrderedDict()\n",
    "session5_dict = collections.OrderedDict()\n",
    "session6_dict = collections.OrderedDict()\n",
    "session7_dict = collections.OrderedDict()\n",
    "session8_dict = collections.OrderedDict()\n",
    "session9_dict = collections.OrderedDict()\n",
    "session10_dict = collections.OrderedDict()\n",
    "\n",
    "session_dict_list = [session1_dict, session2_dict, session3_dict, session4_dict, session5_dict, session6_dict,\n",
    "                     session7_dict, session8_dict, session9_dict, session10_dict]"
   ]
  },
  {
   "cell_type": "code",
   "execution_count": 459,
   "metadata": {
    "collapsed": false
   },
   "outputs": [],
   "source": [
    "# Create list for each criteria for each session \n",
    "# where 3 is the first critera and 10 is the last\n",
    "# example: session1_3, [yes, no, yes, no] ... so on\n",
    "# each yes, no, yes is for one criteria but from different tutors\n",
    "\n",
    "for i in range(3, 11):\n",
    "    session1_dict['session1_' + str(i)] = [x[i] for x in session1]\n",
    "    session2_dict['session2_' + str(i)] = [x[i] for x in session2]\n",
    "    session3_dict['session3_' + str(i)] = [x[i] for x in session3]\n",
    "    session4_dict['session4_' + str(i)] = [x[i] for x in session4]\n",
    "    session5_dict['session5_' + str(i)] = [x[i] for x in session5]\n",
    "    session6_dict['session6_' + str(i)] = [x[i] for x in session6]\n",
    "    session7_dict['session7_' + str(i)] = [x[i] for x in session7]\n",
    "    session8_dict['session8_' + str(i)] = [x[i] for x in session8]\n",
    "    session9_dict['session9_' + str(i)] = [x[i] for x in session9]\n",
    "    session10_dict['session10_' + str(i)] = [x[i] for x in session10]\n"
   ]
  },
  {
   "cell_type": "code",
   "execution_count": 460,
   "metadata": {
    "collapsed": false
   },
   "outputs": [
    {
     "data": {
      "text/plain": [
       "OrderedDict([('session_1', [3, 4, 2, 4, 5, 6, 4, 6, 2, 2, 6, 4, 3, 7]),\n",
       "             ('session_2', [5, 7, 8, 4, 8, 3, 8, 4, 4, 2, 6, 5, 3, 8]),\n",
       "             ('session_3', [8, 9, 9, 8, 8, 8, 8, 8, 8, 9, 7, 7, 8, 8]),\n",
       "             ('session_4', [7, 8, 7, 7, 8, 6, 7, 7, 6, 0, 8, 7, 7, 8]),\n",
       "             ('session_5', [8, 6, 9, 9, 8, 8, 7, 8, 8, 9, 7, 7, 8, 8]),\n",
       "             ('session_6', [4, 7, 5, 7, 8, 2, 5, 4, 4, 2, 4, 3, 0, 4]),\n",
       "             ('session_7', [7, 9, 9, 8, 8, 5, 7, 7, 8, 3, 7, 7, 5, 8]),\n",
       "             ('session_8', [7, 6, 5, 6, 6, 6, 6, 7, 6, 3, 6, 6, 7, 8]),\n",
       "             ('session_9', [8, 8, 8, 8, 8, 7, 7, 8, 7, 8, 5, 6, 7, 8]),\n",
       "             ('session_10', [8, 8, 7, 6, 7, 8, 4, 7, 7, 5, 4, 7, 6, 8])])"
      ]
     },
     "execution_count": 460,
     "metadata": {},
     "output_type": "execute_result"
    }
   ],
   "source": [
    "# Creates an ordered Dictionary with each session and its score given by each tutor\n",
    "# OrderedDict([('session_1', [3, 3, 2, 4, 4, 5, 4, 5, 2, 2, 5, 4, 3, 6]),\n",
    "#             ('session_2', [4, 6, 7, 4, 7, 3, 7, 4, 4, 2, 6, 5, 3, 7]), etc.\n",
    "\n",
    "scores_dict = collections.OrderedDict()\n",
    "def dict_appender(session, session_name):\n",
    "    scores = []\n",
    "    for item in session:\n",
    "        sum1 = 0\n",
    "        for i in range(3, 11):\n",
    "            if item[i].lower() == \"yes\":\n",
    "                if (i == 6):\n",
    "                    sum1 += 2\n",
    "                else:\n",
    "                    sum1 += 1\n",
    "        scores.append(sum1)\n",
    "    scores_dict[session_name] = scores\n",
    "\n",
    "for i in range(1, 11):\n",
    "    dict_appender(session_list[i-1], \"session_\" + str(i))\n",
    "scores_dict"
   ]
  },
  {
   "cell_type": "code",
   "execution_count": 471,
   "metadata": {
    "collapsed": false,
    "scrolled": true
   },
   "outputs": [
    {
     "name": "stdout",
     "output_type": "stream",
     "text": [
      "{   'difftutor_1': [3, 2, 0, 1, 1, 1, 0, 1, 1, 1],\n",
      "    'difftutor_2': [2, 4, 1, 0, 1, 4, 2, 0, 1, 1],\n",
      "    'difftutor_3': [4, 5, 1, 1, 2, 2, 2, 1, 1, 0],\n",
      "    'difftutor_4': [2, 1, 0, 1, 2, 4, 1, 0, 1, 1],\n",
      "    'difftutor_5': [1, 5, 0, 0, 1, 5, 1, 0, 1, 0],\n",
      "    'difftutor_6': [0, 0, 0, 2, 1, 1, 2, 0, 0, 1],\n",
      "    'difftutor_7': [2, 5, 0, 1, 0, 2, 0, 0, 0, 3],\n",
      "    'difftutor_8': [0, 1, 0, 1, 1, 1, 0, 1, 1, 0],\n",
      "    'difftutor_9': [4, 1, 0, 2, 1, 1, 1, 0, 0, 0],\n",
      "    'difftutor_10': [4, 1, 1, 8, 2, 1, 4, 3, 1, 2],\n",
      "    'difftutor_11': [0, 3, 1, 0, 0, 1, 0, 0, 2, 3],\n",
      "    'difftutor_12': [2, 2, 1, 1, 0, 0, 0, 0, 1, 0],\n",
      "    'difftutor_13': [3, 0, 0, 1, 1, 3, 2, 1, 0, 1],\n",
      "    'difftutor_14': [1, 5, 0, 0, 1, 1, 1, 2, 1, 1]}\n",
      "{   'difftutor_1': 1.378404875209022,\n",
      "    'difftutor_2': 2.0976176963403033,\n",
      "    'difftutor_3': 2.3874672772626644,\n",
      "    'difftutor_4': 1.70293863659264,\n",
      "    'difftutor_5': 2.32379000772445,\n",
      "    'difftutor_6': 1.0488088481701516,\n",
      "    'difftutor_7': 2.073644135332772,\n",
      "    'difftutor_8': 0.7745966692414834,\n",
      "    'difftutor_9': 1.5491933384829668,\n",
      "    'difftutor_10': 3.420526275297414,\n",
      "    'difftutor_11': 1.5491933384829668,\n",
      "    'difftutor_12': 1.0488088481701516,\n",
      "    'difftutor_13': 1.61245154965971,\n",
      "    'difftutor_14': 1.8708286933869707}\n"
     ]
    }
   ],
   "source": [
    "# This function returns a dictionary that has the tutors mapped to all their scores they gave.\n",
    "# We put this into tutors_list\n",
    "\n",
    "def score_appender():\n",
    "    tutors = collections.OrderedDict()\n",
    "    for i in range(14):\n",
    "        scores = []\n",
    "        for key, value in scores_dict.items():\n",
    "            scores.append(value[i])\n",
    "        tutors[\"tutor_\" + str(i+1)] = scores\n",
    "    return tutors\n",
    "\n",
    "tutors_list = score_appender()\n",
    "\n",
    "# Finds the difference in total score for each session between tutor and answer key \n",
    "# and maps the tutor to a list with the difference\n",
    "\n",
    "def difference_key_tutor():\n",
    "    tutors_difference = collections.OrderedDict()\n",
    "    for key, value in tutors_list.items():\n",
    "        diff = []\n",
    "        for i in range(10):\n",
    "            difference = abs(value[i] - answer_key_score[i])\n",
    "            diff.append(difference)\n",
    "        summation = sum(diff)\n",
    "        tutors_difference[\"diff\" + key] = diff\n",
    "    return tutors_difference\n",
    "\n",
    "tutors_diff = difference_key_tutor()\n",
    "pp.pprint(tutors_diff)\n",
    "\n",
    "# Finds stdeviation of tutors scores in general from answer key\n",
    "def tutor_stdev(difference):\n",
    "    sq_difference = [x * x for x in difference]\n",
    "    variance = sum(sq_difference)/len(difference)\n",
    "    stdev = math.sqrt(variance)\n",
    "    return stdev\n",
    "\n",
    "stdev_tutors = collections.OrderedDict()\n",
    "\n",
    "for key, value in tutors_diff.items():\n",
    "    stdev_tutors[key] = tutor_stdev(value)\n",
    "    \n",
    "pp.pprint(stdev_tutors)\n",
    "\n",
    "#Identify tutors with highly different views on the definition of the criteria by \n",
    "#finding their standard deviation from the answer key"
   ]
  },
  {
   "cell_type": "code",
   "execution_count": 470,
   "metadata": {
    "collapsed": false
   },
   "outputs": [
    {
     "name": "stdout",
     "output_type": "stream",
     "text": [
      "{   'session_1': (4.142857142857143, 1.5971914124998496),\n",
      "    'session_2': (5.357142857142857, 2.056597149841138),\n",
      "    'session_3': (8.071428571428571, 0.5933302759227196),\n",
      "    'session_4': (6.642857142857143, 1.9496205805651687),\n",
      "    'session_5': (7.857142857142857, 0.832993127835043),\n",
      "    'session_6': (4.214285714285714, 2.0763488362498044),\n",
      "    'session_7': (7.0, 1.6035674514745464),\n",
      "    'session_8': (6.071428571428571, 1.0996288798814753),\n",
      "    'session_9': (7.357142857142857, 0.8949974347244049),\n",
      "    'session_10': (6.571428571428571, 1.3477115902938006)}\n",
      "[6, 3, 8, 8, 7, 3, 7, 6, 7, 7]\n"
     ]
    }
   ],
   "source": [
    "# Finds mean and standard deviation of a session \n",
    "\n",
    "def mean_finder(some_list):\n",
    "    x = sum(some_list)\n",
    "    y = len(some_list)\n",
    "    return x/y\n",
    "\n",
    "def stdev_finder(some_list):\n",
    "    average = mean_finder(some_list)\n",
    "    difference = [x - average for x in some_list]\n",
    "    sq_difference = [x*x for x in difference]\n",
    "    variance = sum(sq_difference)/len(some_list)\n",
    "    stdev = math.sqrt(variance)\n",
    "    return stdev\n",
    "\n",
    "stat_dict = collections.OrderedDict()\n",
    "for key, value in scores_dict.items():\n",
    "    mean_stdev = []\n",
    "    mean_stdev.append(mean_finder(value))\n",
    "    mean_stdev.append(stdev_finder(value))\n",
    "    stat_dict[key] = tuple(mean_stdev)\n",
    "\n",
    "pp.pprint(stat_dict)\n",
    "pp.pprint(answer_key_score)\n",
    "# generally a higher variation in more poorly performing examples... which means average/lower cases\n",
    "# more controversial, which is typical. Excellent cases are generally consensus good.\n",
    "# Example output of stat_dict, where first one is average, second is stdev\n",
    "# OrderedDict([('session_1', (3.7142857142857144, 1.2205719636167902)),\n",
    "#             ('session_2', (4.928571428571429, 1.6675167899898216)),\n",
    "# compare to actual answer key."
   ]
  },
  {
   "cell_type": "code",
   "execution_count": 463,
   "metadata": {
    "collapsed": false
   },
   "outputs": [
    {
     "name": "stdout",
     "output_type": "stream",
     "text": [
      "{   'session_1': ['Yes', 'No', 'Yes', 'No', 'No', 'No', 'No', 'Yes'],\n",
      "    'session_2': ['Yes', 'No', 'Yes', 'No', 'No', 'Yes', 'Yes', 'Yes'],\n",
      "    'session_3': ['Yes', 'No', 'Yes', 'Yes', 'Yes', 'Yes', 'Yes', 'Yes'],\n",
      "    'session_4': ['Yes', 'No', 'Yes', 'Yes', 'Yes', 'Yes', 'Yes', 'Yes'],\n",
      "    'session_5': ['Yes', 'No', 'Yes', 'Yes', 'Yes', 'Yes', 'Yes', 'Yes'],\n",
      "    'session_6': ['Yes', 'No', 'No', 'No', 'No', 'Yes', 'No', 'Yes'],\n",
      "    'session_7': ['Yes', 'No', 'Yes', 'Yes', 'Yes', 'Yes', 'Yes', 'Yes'],\n",
      "    'session_8': ['No', 'No', 'Yes', 'Yes', 'Yes', 'Yes', 'No', 'Yes'],\n",
      "    'session_9': ['Yes', 'No', 'Yes', 'Yes', 'Yes', 'Yes', 'Yes', 'Yes'],\n",
      "    'session_10': ['Yes', 'No', 'Yes', 'Yes', 'Yes', 'Yes', 'Yes', 'Yes']}\n",
      "{   'session_1': ['Yes', 'No', 'Yes', 'Yes', 'No', 'Yes', 'No', 'Yes'],\n",
      "    'session_2': ['Yes', 'No', 'Yes', 'No', 'No', 'Yes', 'No', 'No'],\n",
      "    'session_3': ['Yes', 'No', 'Yes', 'Yes', 'Yes', 'Yes', 'Yes', 'Yes'],\n",
      "    'session_4': ['Yes', 'No', 'Yes', 'Yes', 'Yes', 'Yes', 'Yes', 'Yes'],\n",
      "    'session_5': ['Yes', 'No', 'Yes', 'Yes', 'Yes', 'Yes', 'No', 'Yes'],\n",
      "    'session_6': ['Yes', 'No', 'No', 'No', 'No', 'Yes', 'No', 'Yes'],\n",
      "    'session_7': ['Yes', 'No', 'Yes', 'Yes', 'Yes', 'Yes', 'No', 'Yes'],\n",
      "    'session_8': ['No', 'No', 'Yes', 'Yes', 'Yes', 'Yes', 'No', 'Yes'],\n",
      "    'session_9': ['Yes', 'No', 'Yes', 'Yes', 'Yes', 'Yes', 'No', 'Yes'],\n",
      "    'session_10': ['Yes', 'No', 'Yes', 'Yes', 'Yes', 'Yes', 'No', 'Yes']}\n",
      "{   'session_1': [0, 0, 0, 1, 0, 1, 0, 0],\n",
      "    'session_2': [0, 0, 0, 0, 0, 0, 1, 1],\n",
      "    'session_3': [0, 0, 0, 0, 0, 0, 0, 0],\n",
      "    'session_4': [0, 0, 0, 0, 0, 0, 0, 0],\n",
      "    'session_5': [0, 0, 0, 0, 0, 0, 1, 0],\n",
      "    'session_6': [0, 0, 0, 0, 0, 0, 0, 0],\n",
      "    'session_7': [0, 0, 0, 0, 0, 0, 1, 0],\n",
      "    'session_8': [0, 0, 0, 0, 0, 0, 0, 0],\n",
      "    'session_9': [0, 0, 0, 0, 0, 0, 1, 0],\n",
      "    'session_10': [0, 0, 0, 0, 0, 0, 1, 0]}\n"
     ]
    }
   ],
   "source": [
    "# Returns a list with number of yes - number of no for each property\n",
    "# This basically means that the lower the #, means more conflict between tutors\n",
    "def variance_finder(session):\n",
    "    variance = []\n",
    "    for key, value in session.items():\n",
    "        num_yes = 0\n",
    "        num_no = 0\n",
    "        for decision in value:\n",
    "            if decision.lower() == \"yes\":\n",
    "                num_yes += 1\n",
    "            else:\n",
    "                num_no += 1\n",
    "        variance.append(abs(num_yes - num_no))\n",
    "    return variance\n",
    "\n",
    "# Finds the dominant decision (yes/no) for each criteria for each session and returns all of them in a list\n",
    "\n",
    "def dominant_finder(session):\n",
    "    dominant = []\n",
    "    for key, value in session.items():\n",
    "        num_yes = 0\n",
    "        num_no = 0\n",
    "        for decision in value:\n",
    "            if decision.lower() == \"yes\":\n",
    "                num_yes += 1\n",
    "            else:\n",
    "                num_no += 1\n",
    "        if num_yes > num_no:\n",
    "            dominant.append('Yes')\n",
    "        else:\n",
    "            dominant.append('No')\n",
    "    return dominant\n",
    "\n",
    "dominant_dict = collections.OrderedDict()\n",
    "for i in range(0, 10):\n",
    "    dominant_dict[\"session_\" + str(i+1)] = dominant_finder(session_dict_list[i])\n",
    "\n",
    "answer_key_dict = collections.OrderedDict()\n",
    "for i, item in enumerate(answer_key):\n",
    "    answer_key_dict[\"session_\" + str(i+1)] = item[3:11]\n",
    "    \n",
    "pp.pprint(dominant_dict)\n",
    "pp.pprint(answer_key_dict)\n",
    "\n",
    "dom_ans_diff = collections.OrderedDict()\n",
    "for key, value in dominant_dict.items():\n",
    "    diffs = []\n",
    "    for i in range(8):\n",
    "        if value[i] == answer_key_dict[key][i]:\n",
    "            diffs.append(0)\n",
    "        else:\n",
    "            diffs.append(1)\n",
    "    dom_ans_diff[key] = diffs\n",
    "            \n",
    "pp.pprint(dom_ans_diff)\n",
    "    \n",
    "# We do two things here, we find the dominant answer for each critera for each session, then proceed to create a \n",
    "# list for each session with the dominant decision which is the first dictionary called dominant_dict.\n",
    "# Then we create the answer key dictionary which is simply what the answer key states should be correct for each session.\n",
    "# Then we checked the differences and put them into a list, so if both are equivalent, that's a value of 0, if not equivalent\n",
    "# it gets a 1. So we can see easily that the biggest difference is actually only 2, which shows the power of crowd-sourcing\n",
    "# tutor decisions. Even though some may have differed greatly, over a large quantity of tutors, the differences are more or\n",
    "# less weeded out. Now, we see that this correlates to our data before, which we found that the second to last criteria is troubling\n",
    "# because here that's the one that constantly shows up as different between answer key and tutor."
   ]
  },
  {
   "cell_type": "code",
   "execution_count": 464,
   "metadata": {
    "collapsed": false
   },
   "outputs": [],
   "source": [
    "variance_dict = collections.OrderedDict()\n",
    "for i in range(0, 10):\n",
    "    variance_dict[\"session_\" + str(i+1) + \"_difference\"] = variance_finder(session_dict_list[i])\n",
    "\n",
    "#We now have the difference for every single session, and the ones with most conflict will \n",
    "#be the ones that have the lowest variance, which means there's a more \"split\" decision\n",
    "#which indicates a need for clarification, find a possible general trend"
   ]
  },
  {
   "cell_type": "code",
   "execution_count": 465,
   "metadata": {
    "collapsed": false
   },
   "outputs": [],
   "source": [
    "session_var_list = [session_1_variance, session_2_variance, session_3_variance, session_4_variance,\n",
    "                   session_5_variance, session_6_variance, session_7_variance, session_8_variance,\n",
    "                   session_9_variance, session_10_variance]\n"
   ]
  },
  {
   "cell_type": "code",
   "execution_count": 466,
   "metadata": {
    "collapsed": false
   },
   "outputs": [],
   "source": [
    "total_variance = []\n",
    "for i in range(8):\n",
    "    sum1 = 0\n",
    "    for item in session_var_list:\n",
    "        sum1 += item[i]\n",
    "    total_variance.append(sum1)\n",
    "    \n",
    "# calculating total variance, so basically the total difference of each criteria\n",
    "# whether yes or no is dominant here doesn't really matter, it actually is just used to find \n",
    "# confusing criteria"
   ]
  },
  {
   "cell_type": "code",
   "execution_count": 467,
   "metadata": {
    "collapsed": false
   },
   "outputs": [
    {
     "data": {
      "text/plain": [
       "[104, 112, 120, 90, 98, 100, 50, 88]"
      ]
     },
     "execution_count": 467,
     "metadata": {},
     "output_type": "execute_result"
    }
   ],
   "source": [
    "total_variance\n",
    "\n",
    "#indicates that there are a couple controversial descriptions which include\n",
    "#Instruction [Deliver an appropriate explanation that follows the given instructions?]\n",
    "#Instruction [Consistently check in with the student to ensure that they are following along?]\n",
    "#Overall [Communicate clearly throughout the session?]"
   ]
  },
  {
   "cell_type": "code",
   "execution_count": null,
   "metadata": {
    "collapsed": false
   },
   "outputs": [],
   "source": []
  }
 ],
 "metadata": {
  "kernelspec": {
   "display_name": "Python 3",
   "language": "python",
   "name": "python3"
  },
  "language_info": {
   "codemirror_mode": {
    "name": "ipython",
    "version": 3
   },
   "file_extension": ".py",
   "mimetype": "text/x-python",
   "name": "python",
   "nbconvert_exporter": "python",
   "pygments_lexer": "ipython3",
   "version": "3.4.3"
  }
 },
 "nbformat": 4,
 "nbformat_minor": 0
}
